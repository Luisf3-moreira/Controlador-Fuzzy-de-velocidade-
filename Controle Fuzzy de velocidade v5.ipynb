{
 "cells": [
  {
   "cell_type": "markdown",
   "metadata": {},
   "source": [
    "# Controle de velocidade Fuzzy"
   ]
  },
  {
   "cell_type": "markdown",
   "metadata": {},
   "source": [
    "Bibliotecas que serão usadas: <br>\n",
    "    Simpful - 2.5.0 -> https://github.com/aresio/simpful <br>\n",
    "    Numpy - 1.18.5 -> https://numpy.org/ <br>\n",
    "    Scipy - 1.5.0 -> https://www.scipy.org/ <br>\n",
    "    Control - 0.9.0 -> https://github.com/python-control/python-control"
   ]
  },
  {
   "cell_type": "markdown",
   "metadata": {},
   "source": [
    "## Importando as bibliotecas"
   ]
  },
  {
   "cell_type": "code",
   "execution_count": 2,
   "metadata": {},
   "outputs": [
    {
     "name": "stdout",
     "output_type": "stream",
     "text": [
      "Using matplotlib backend: Qt5Agg\n"
     ]
    }
   ],
   "source": [
    "#Importando as bibliotecas\n",
    "import simpful as sf\n",
    "import numpy as np\n",
    "import control as ctl\n",
    "import matplotlib.pyplot as plt\n",
    "from scipy.integrate import odeint\n",
    "import scipy.integrate\n",
    "import scipy.signal as sig\n",
    "from scipy.signal import lti,step2,cont2discrete\n",
    "from scipy.optimize import minimize\n",
    "%matplotlib"
   ]
  },
  {
   "cell_type": "markdown",
   "metadata": {},
   "source": [
    "### Criando o modelo da bicicleta elétrica"
   ]
  },
  {
   "cell_type": "markdown",
   "metadata": {},
   "source": [
    "As equações seguintes modelam o seguinte diagrama de corpo livre de uma bicicleta elétrica:"
   ]
  },
  {
   "cell_type": "markdown",
   "metadata": {},
   "source": [
    "$ \\begin{bmatrix} \\dot{\\omega} \\\\ \\dot{I} \\end{bmatrix} = \\begin{bmatrix} \\frac{1}{(J + M.r²)}.(k_{t}.I_{a} + T_{humano} - B.\\omega - r.(F_{rr} + F_{a} + F_{w}) - T_{f}\\\\ \\frac{1}{L_{a}}.(V_{a} - K_{t}.\\omega - R_{a}.I_{a}) \\end{bmatrix}$"
   ]
  },
  {
   "cell_type": "markdown",
   "metadata": {},
   "source": [
    "Com"
   ]
  },
  {
   "cell_type": "markdown",
   "metadata": {},
   "source": [
    "$v = \\omega.r$"
   ]
  },
  {
   "attachments": {
    "diagrama%20de%20corpo%20livre%20bicicleta%20el%C3%A9trica.png": {
     "image/png": "[encoded data removed]"
    }
   },
   "cell_type": "markdown",
   "metadata": {},
   "source": [
    "![diagrama%20de%20corpo%20livre%20bicicleta%20el%C3%A9trica.png](attachment:diagrama%20de%20corpo%20livre%20bicicleta%20el%C3%A9trica.png)"
   ]
  },
  {
   "cell_type": "markdown",
   "metadata": {},
   "source": [
    "Figura 1 - Diagrama de corpo livre de uma bicicleta"
   ]
  },
  {
   "cell_type": "markdown",
   "metadata": {},
   "source": [
    "##### Determinando Ra e La"
   ]
  },
  {
   "cell_type": "code",
   "execution_count": 3,
   "metadata": {},
   "outputs": [
    {
     "name": "stdout",
     "output_type": "stream",
     "text": [
      "Resistência da armadura é 0.17327226514182117 ohms\n",
      "o valor da indutância da armadura é 0.002 H\n"
     ]
    }
   ],
   "source": [
    "#Ra - para Torque = 0 tem-se do datasheet: Pout = 0,3171 W e Ia = 1,3528\n",
    "pout = 0.3171\n",
    "ia = 1.3528\n",
    "Ra = pout/(ia**2)\n",
    "print('Resistência da armadura é',Ra,\"ohms\")\n",
    "\n",
    "\n",
    "#La - resolvendo o Sistema de equações de EDO para entre o intervalo do datasheet = [8,8.7572] sem estar conectado a carga\n",
    "def corrente(x,t,la,Th):\n",
    "    kt = 1.49\n",
    "    u = 36\n",
    "    ra = 0.1733\n",
    "    j = 0.222\n",
    "    B = 1e-3\n",
    "    Tf = 1.71\n",
    "    dxdt = [1/(j)*(kt*x[1] - B*x[0] - Tf - Th), 1/la*(u - kt*x[0] - ra*x[1])]\n",
    "    \n",
    "    return dxdt\n",
    "    \n",
    "#t = np.arange(7,12,0.8)\n",
    "t = [8,8.7572]#intervalo de tempo\n",
    "Ia = 7.8029\n",
    "la = 0.001\n",
    "erro = 0.5\n",
    "I0 = [234.8*0.105,6.2679]#Condições no tempo inicial\n",
    "Th = 10 #  torque no tempo final\n",
    "while erro >= 0.1:    \n",
    "    y = odeint(corrente,I0,t,args=(la,Th))\n",
    "    Iaa = y[1]\n",
    "    erro = abs(Iaa[-1] - Ia)/Ia\n",
    "    la = la + 0.001\n",
    "    \n",
    "print('o valor da indutância da armadura é', la, 'H')"
   ]
  },
  {
   "cell_type": "code",
   "execution_count": 84,
   "metadata": {},
   "outputs": [],
   "source": [
    "def bicicleta_eletrica(x,t,u,tr):\n",
    "    #ENTRADAS\n",
    "        #t - tempo [s]\n",
    "        #u - tensão [V]\n",
    "        #tr - Inclinação [graus] \n",
    "        \n",
    "    #ESTADOS\n",
    "    w = x[0] #velocidade angular do motor/roda [rad/s]\n",
    "    Ia = x[1] #corrente na armadura [A]\n",
    "    \n",
    "    #PARÂMETROS\n",
    "    r = 0.25 #raio da roda bicicleta [m]\n",
    "    M = 107 #massa do conjunto bicicleta elétrica ciclista [kg]\n",
    "    n = 60 #cadência no pedal[rpm]\n",
    "    kt = 1.49 #constante de torque do motor [N.m/A]\n",
    "    Tf = 1.71 #torque viscoso resistivo do motor[N.m]\n",
    "    i = 0.5 #relação de transmissão\n",
    "\n",
    "    As = 0.509#Area frontal do ciclista [m²]\n",
    "    Crr = 0.0025 #Coeficiente de atrito de rolagem \n",
    "    Cw = 0.76#Coeficiente de arrasto do ar\n",
    "    rho = 1.2#densidade do ar [kg/m³]\n",
    "    g = 9.81 #gravidade [m/s²]\n",
    "    \n",
    "    ra = 0.1733 #resistência da armadura do motor[ohms]\n",
    "    La = 2e-3 # indutância da armadura do motor [H] \n",
    "    jl = 0.0625 #inercia da carga - roda da bicicleta roda de 1kg com raio de 0,25m\n",
    "    jm = 7.35e-3 #inercia do motor \n",
    "    jt = jl+jm #inercia total\n",
    "    B = 1e-3#coeficiente de atrito viscoso no motor\n",
    "    \n",
    "    #EQUAÇÕES DIFERENCIAIS DO MODELO\n",
    "    thetai = np.radians(45)# ângulo inicial do pedivela\n",
    "\n",
    "    #Torque humano - Dependente do tempo\n",
    "    Th = 12 #Torque médio no tempo entre 1 e 50\n",
    "\n",
    "    #Th = ((30*i*r)/(np.pi*n*0.165))*(85 + 65/(t**0.025))*np.sin(thetai + 2*np.pi*n/60*t)\n",
    "    #Th = 12\n",
    "\n",
    "    # w = velocidade angular \n",
    "    #tr = ângulo de inclinação do trajeto\n",
    "\n",
    "    # Força de atrito do ar [N] - \n",
    "    fw = 0.5*As*Cw*rho*r**2*w**2 #fw = 0.4477*(r*3.6)*y[0] - 1.7909 /linearizada e para velocidade angular => v = w*r*3,6 em km/h\n",
    "\n",
    "    # Força de atrito de rolamento [N]\n",
    "    frr = Crr*M*g*np.cos(tr)\n",
    "\n",
    "    # Força gravitacional [N]\n",
    "    fa = M*g*np.sin(tr)\n",
    "    \n",
    "    #Motor elétrico\n",
    "    dxdt = [1/(jt+M*r**2)*(kt*Ia - B*w - r*(fw + frr + fa) +  Th - Tf), 1/La*(u - kt*w - ra*Ia)]\n",
    "    \n",
    "    return dxdt\n",
    "\n",
    "\n",
    "def trajeto(g): \n",
    "    return np.radians(g)"
   ]
  },
  {
   "cell_type": "markdown",
   "metadata": {},
   "source": [
    "##### Definindo as métricas no tempo"
   ]
  },
  {
   "cell_type": "code",
   "execution_count": 5,
   "metadata": {},
   "outputs": [],
   "source": [
    "def metricasTempoControle(w2,t,e,sp):\n",
    "    #Retorna uma tupla contento os valores de overshoot, tempo de subida, tempo de pico, tempo de acomodação e erro de regime.\n",
    "    \n",
    "    #Overshoot\n",
    "    os = (np.amax(w2)-sp[0])/sp[0]*100\n",
    "    print('O valor do overshoot é de ', os, '%')\n",
    "    \n",
    "    #Tempo de subida\n",
    "    wf = w2[-1] #resposta final\n",
    "    wa = 0.1*wf\n",
    "    wb = 0.9*wf\n",
    "    pa = np.where(w2<=wa)\n",
    "    pb = np.where(w2>=wb)\n",
    "    ta = t[pa]\n",
    "    tb = t[pb]\n",
    "    ts = tb[0] - ta[-1]\n",
    "    print('O valor do tempo de subida é ', ts, 's')\n",
    "    \n",
    "    #Tempo de pico\n",
    "    tp = t[np.argmax(w2)]\n",
    "    print('O valor do tempo de pico é ', tp, 's')\n",
    "\n",
    "    #Tempo de acomodação\n",
    "    if e[0]>1:\n",
    "        er = e/sp[0]\n",
    "    else:\n",
    "        er = e\n",
    "    pep2 = np.where(abs(er)<=0.02)[0]\n",
    "    tp2 = t[pep2]\n",
    "    pos = []\n",
    "    for j in range(len(pep2)-1):\n",
    "        if pep2[j+1]-pep2[j] <= 1:\n",
    "            pos.append(pep2[j])\n",
    "        else:\n",
    "            pos = []\n",
    "    ta = tp2[pos[0]]\n",
    "    print('O valor do tempo de acomodação é ', ta, 's')\n",
    "\n",
    "    #erro\n",
    "    err = e[-1]/sp[0]*100\n",
    "    print('O valor do erro de regime é ', err,'%')\n",
    "    \n",
    "    return os, ts, tp, ta, err"
   ]
  },
  {
   "cell_type": "markdown",
   "metadata": {},
   "source": [
    "## Sistema de controle Fuzzy"
   ]
  },
  {
   "cell_type": "markdown",
   "metadata": {},
   "source": [
    "##### Definindo as condições iniciais"
   ]
  },
  {
   "cell_type": "code",
   "execution_count": 180,
   "metadata": {},
   "outputs": [],
   "source": [
    "#Tempo\n",
    "t = np.linspace(1,50,350)\n",
    "\n",
    "#trajetos\n",
    "g = np.linspace(0,8,350)#np.linspace(0,8,350)#np.linspace(3,8,350)#np.ones(350)*2\n",
    "#tr = np.concatenate((np.ones(50)*np.radians(1),np.ones(50)*np.radians(-2),np.linspace(0,8,250)), axis=0)\n",
    "\n",
    "#Condições inicias do sistema \n",
    "w = np.zeros(len(t)) #velocidade angular inicial [rad/s]\n",
    "I1 = np.zeros(len(t)) #corrente na armadura inicial [A]\n",
    "x0 = [0.0,0.0] #Vetor com as condições iniciais para velocidade angular e corrente\n",
    "tr = trajeto(g) #[rad]\n",
    "u = np.ones(len(t))*0 #Tensão inicial [V]\n",
    "#ac = np.zeros(len(t)) # Aceleração angular inicial\n",
    "\n",
    "#Para o controlador PID com La = 3e-2\n",
    "#Kc = 1.65#Para a constante proporcional\n",
    "#tauI = 0.3#Para a constante integrativa\n",
    "#tauD = 0.07 #Para a constante derivativa\n",
    "\n",
    "#Armazenando resultados\n",
    "sc = np.zeros(len(t))  # saída do controlador\n",
    "vp = np.zeros(len(t))  # variável do processo\n",
    "e = np.zeros(len(t))   # erro\n",
    "ei = np.zeros(len(t))  # erro integral\n",
    "dvp = np.zeros(len(t)) # derivada de vp\n",
    "\n",
    "#Para o controle PID\n",
    "P = np.zeros(len(t))   # proporcional\n",
    "I = np.zeros(len(t))   # integral\n",
    "D = np.zeros(len(t))   # derivativo\n",
    "\n",
    "#Referência\n",
    "sp = np.zeros(len(t))  # set point\n",
    "vr1 = 12 # velocidade de refêrencia em km/h\n",
    "vr2 = 12\n",
    "vr3 = 12\n",
    "#Vetor referência em velocidade angular - rad/s \n",
    "sp[0:80] = (vr1/3.6)/0.25 \n",
    "sp[80:150] = (vr2/3.6)/0.25\n",
    "sp[150:] = (vr3/3.6)/0.25\n",
    "#wr = (vr1/3.6)/0.25 #para usar par entrada rampa\n",
    "#sp = np.linspace(0.1,wr,len(t))#Entrada rampa\n",
    "\n",
    "#Limites do controlador -> Caso de saturação\n",
    "sc_up = 44 #tensão máxima de entrada\n",
    "sc_down = 0 #Tensão mínima de entrada-> Desligado| Caso seja usado freio regenerativo sc_down será negativo\n",
    "\n",
    "#Valor atual de vp - será w (velocidade angular)\n",
    "vp[0] = w[0]"
   ]
  },
  {
   "cell_type": "markdown",
   "metadata": {},
   "source": [
    "##### Criando o controlador Fuzzy"
   ]
  },
  {
   "cell_type": "code",
   "execution_count": 183,
   "metadata": {},
   "outputs": [
    {
     "name": "stdout",
     "output_type": "stream",
     "text": [
      "  ____  __  _  _  ____  ____  _  _  __   \n",
      " / ___)(  )( \\/ )(  _ \\(  __)/ )( \\(  ) v2.5.0 \n",
      " \\___ \\ )( / \\/ \\ ) __/ ) _) ) \\/ (/ (_/\\ \n",
      " (____/(__)\\_)(_/(__)  (__)  \\____/\\____/\n",
      "\n",
      " Created by Marco S. Nobile (m.s.nobile@tue.nl)\n",
      " and Simone Spolaor (simone.spolaor@unimib.it)\n",
      "\n"
     ]
    }
   ],
   "source": [
    "FS = sf.simpful.FuzzySystem() #Sistema de controle para o motor. Ele irá ajustar o valor da tensão no motor\n",
    "\n",
    "# Variáveis linguísticas e funções de pertinência\n",
    "\n",
    "## Erro da velocidade -> Representa o erro entre a velocidade de refêrencia e a velocidade real\n",
    "E1 = sf.fuzzy_sets.FuzzySet(function=sf.fuzzy_sets.Trapezoidal_MF(a=-1, b=-1, c=-0.6, d=-0.0),term = \"negativo\")\n",
    "E2 = sf.fuzzy_sets.FuzzySet(function=sf.fuzzy_sets.Triangular_MF(a=-0.05, b=0, c=0.05),term = \"ok\")\n",
    "E3 = sf.fuzzy_sets.FuzzySet(function=sf.fuzzy_sets.Trapezoidal_MF(a=0.0, b=0.6, c=1, d=1),term = \"positivo\")\n",
    "FS.add_linguistic_variable(\"ErroVelocidade\", sf.simpful.LinguisticVariable([E1, E2, E3], concept=\"Erro da velocidade da bicicleta em km/h\", universe_of_discourse=[-1,1]))\n",
    "\n",
    "### Vizualizando o subgrupo velocidade\n",
    "FS.plot_variable(\"ErroVelocidade\")\n",
    "\n",
    "## Aceleração -> Representa a aceleração  angular do conjunto bicicleta e ciclista\n",
    "A1 = sf.fuzzy_sets.FuzzySet(function=sf.fuzzy_sets.Triangular_MF(a=-0.3, b=-0.3, c=-0.0),term = \"negativa\")\n",
    "A2 = sf.fuzzy_sets.FuzzySet(function=sf.fuzzy_sets.Triangular_MF(a=-0.03, b=0, c=0.03),term = \"zero\")\n",
    "A3 = sf.fuzzy_sets.FuzzySet(function=sf.fuzzy_sets.Triangular_MF(a=0.0, b=0.3, c=0.3),term = \"positiva\")\n",
    "\n",
    "FS.add_linguistic_variable(\"Aceleracao\", sf.simpful.LinguisticVariable([A1, A2, A3], concept=\"Aceleração angular da bicicleta em rad/s²\", universe_of_discourse=[-1.5,1.5]))\n",
    "\n",
    "### Vizualizando o subgrupo velocidade\n",
    "FS.plot_variable(\"Aceleracao\")\n",
    "\n",
    "# Variáveis de saída\n",
    "Te1 = sf.fuzzy_sets.FuzzySet(function=sf.fuzzy_sets.Triangular_MF(a=-1.65, b=-1.65, c=-0.75),term = \"diminuirMuito\")\n",
    "Te2 = sf.fuzzy_sets.FuzzySet(function=sf.fuzzy_sets.Triangular_MF(a=-0.5, b=-0.4, c=-0.3),term = \"diminuir\")\n",
    "Te3 = sf.fuzzy_sets.FuzzySet(function=sf.fuzzy_sets.Triangular_MF(a=-0.1, b=0, c=0.1),term = \"manter\")\n",
    "Te4 = sf.fuzzy_sets.FuzzySet(function=sf.fuzzy_sets.Triangular_MF(a=0.3, b=0.4, c=0.5),term = \"aumentar\")\n",
    "Te5 = sf.fuzzy_sets.FuzzySet(function=sf.fuzzy_sets.Triangular_MF(a=0.75, b=1.65, c=1.65),term = \"aumentarMuito\")\n",
    "\n",
    "FS.add_linguistic_variable(\"Variacao_Tensao\", sf.simpful.LinguisticVariable([Te1, Te2, Te3, Te4, Te5], concept=\"Fator de aumento ou diminuição da tensão\", universe_of_discourse=[-1.65,1.65]))\n",
    "\n",
    "\n",
    "### Vizualizando o subgrupo tensão\n",
    "FS.plot_variable(\"Variacao_Tensao\")\n",
    "\n",
    "R1 = \"IF (ErroVelocidade IS positivo) THEN (Variacao_Tensao IS aumentarMuito)\"\n",
    "R2 = \"IF (ErroVelocidade IS negativo) THEN (Variacao_Tensao IS diminuirMuito)\"\n",
    "R3 = \"IF (ErroVelocidade IS ok) THEN (Variacao_Tensao IS manter)\"\n",
    "R4 = \"IF (ErroVelocidade IS ok) AND (Aceleracao IS negativa) THEN (Variacao_Tensao IS aumentar)\"\n",
    "R5 = \"IF (ErroVelocidade IS ok) AND (Aceleracao IS positiva) THEN (Variacao_Tensao IS diminuir)\"\n",
    "\n",
    "FS.add_rules([R1, R2, R3, R4, R5])\n",
    "\n",
    "#Definindo o controlador\n",
    "def fuzzyControl(er, ace):\n",
    "    #er = erro da velocidade [%]\n",
    "    #ace = aceleração angular [rad/s²]\n",
    "    FS.set_variable(\"ErroVelocidade\", er)\n",
    "    FS.set_variable(\"Aceleracao\", ace)\n",
    "    \n",
    "    #Realizando o processo de inferência e de defuzzificação\n",
    "    v = FS.Mamdani_inference([\"Variacao_Tensao\"])\n",
    "    tensao = v['Variacao_Tensao']\n",
    "    \n",
    "    return tensao"
   ]
  },
  {
   "cell_type": "markdown",
   "metadata": {},
   "source": [
    "O sistema de controle terá o seguinte diagrama de blocos:"
   ]
  },
  {
   "attachments": {
    "sistema%20de%20controle%20fuzzy%20TCC%20MOREIRA.png": {
     "image/png": "[encoded data removed]"
    }
   },
   "cell_type": "markdown",
   "metadata": {},
   "source": [
    "![sistema%20de%20controle%20fuzzy%20TCC%20MOREIRA.png](attachment:sistema%20de%20controle%20fuzzy%20TCC%20MOREIRA.png)"
   ]
  },
  {
   "cell_type": "markdown",
   "metadata": {},
   "source": [
    "Figura 2 - Diagrama de blocos do sistema de controle fuzzy"
   ]
  },
  {
   "cell_type": "markdown",
   "metadata": {},
   "source": [
    "###### Simulação fuzzy"
   ]
  },
  {
   "cell_type": "code",
   "execution_count": 181,
   "metadata": {},
   "outputs": [],
   "source": [
    "for i in range(len(t)-1):    \n",
    "    delta_t = t[i+1]-t[i]#passo de tempo\n",
    "    e[i] = (sp[i] - vp[i])/sp[i] #erro relativo\n",
    "    \n",
    "    #CONTROLADOR FUZZY\n",
    "    ac = bicicleta_eletrica(x0,i,u[i],tr[i])\n",
    "    sc[i] =u[i]+fuzzyControl(e[i],ac[0])#Atualização do valor da tensão pelo \"ganho\" do controlador fuzzy\n",
    "    \n",
    "    #Testa se o sistema está saturado\n",
    "    if sc[i] > sc_up:  # checa limite superior\n",
    "        sc[i] = sc_up        \n",
    "    if sc[i] < sc_down:  # checa limite inferior\n",
    "        sc[i] = sc_down\n",
    "        \n",
    "        \n",
    "    ts = [t[i],t[i+1]]#Tempo amostral\n",
    "    \n",
    "    u[i+1] = sc[i] #Entrada inicial corrigida pelo controlador\n",
    "    \n",
    "    y = odeint(bicicleta_eletrica, x0, ts,args=(u[i+1],tr[i])) #Resolução da EDO usando o método integrativo ODEINT de scipy\n",
    "    \n",
    "    w[i+1] = y[-1,0] #vetor com a saída w ao longo do tempo\n",
    "    I1[i+1] = y[-1,1] #vetor com a saída Ia ao longo do tempo\n",
    "    vp[i+1] = w[i+1] #vetor com w para calcular o erro\n",
    "    x0[0] = w[i+1] #atualização do valor inicial para velocidade angular\n",
    "    x0[1] = I1[i+1] #atualização do valor inicial para corrente"
   ]
  },
  {
   "cell_type": "markdown",
   "metadata": {},
   "source": [
    "##### Visualização dos resultados"
   ]
  },
  {
   "cell_type": "code",
   "execution_count": 166,
   "metadata": {},
   "outputs": [],
   "source": [
    "#Plot do resultados\n",
    "plt.figure(1)\n",
    "plt.plot(t,0.25*w*3.6, 'b', label='velocidade real')\n",
    "plt.plot(t,0.25*sp*3.6, 'k', label='referência')\n",
    "#plt.plot(t, u, 'r', label='tensão')\n",
    "#plt.plot(t, I1, 'oc', label='corrente')\n",
    "plt.legend(loc='best')\n",
    "plt.title('Resposta do sistema com controlador fuzzy')\n",
    "plt.xlabel('tempo [s]')\n",
    "plt.ylabel('Velocidade [km/h]')\n",
    "plt.grid()\n",
    "plt.show()\n",
    "#plt.savefig('Resposta_com_controlador_fuzzy_trajeto3.png')\n"
   ]
  },
  {
   "cell_type": "code",
   "execution_count": 182,
   "metadata": {},
   "outputs": [
    {
     "name": "stdout",
     "output_type": "stream",
     "text": [
      "O valor do overshoot é de  7.833698978835023 %\n",
      "O valor do tempo de subida é  1.9656160458452723 s\n",
      "O valor do tempo de pico é  3.808022922636103 s\n",
      "O valor do tempo de acomodação é  8.581661891117477 s\n",
      "O valor do erro de regime é  0.0 %\n"
     ]
    }
   ],
   "source": [
    "metricasFuzzy = metricasTempoControle(w,t,e,sp)"
   ]
  },
  {
   "cell_type": "markdown",
   "metadata": {},
   "source": [
    "Consumo de carga da bateria<br>\n",
    "Como Q = integral(i.dt)<br>\n",
    "Q = carga<br>\n",
    "i = corrente"
   ]
  },
  {
   "cell_type": "code",
   "execution_count": 78,
   "metadata": {},
   "outputs": [
    {
     "name": "stdout",
     "output_type": "stream",
     "text": [
      "O valor consumido de carga no trajeto foi de:  70.9151772927899 C\n",
      "O valor consumido da bateria no trajeto foi de:  0.44 %\n",
      "O valor restante da bateria no trajeto foi de:  99.56 %\n",
      "A distância percorrida no trajeto foi de:  566.1 m\n",
      "O valor estimado da autonomia da bateria é de :  129.32 km  ou  190.0 min\n"
     ]
    }
   ],
   "source": [
    "q = scipy.integrate.trapz(I1,t) # com freio regenerativo\n",
    "d = scipy.integrate.trapz(0.25*w*3.6,t) #Distância percorrida no trajeto\n",
    "#Outra forma de calcular q=> sem freio regenerativo\n",
    "q1 = 0\n",
    "dt = t[1]-t[0]\n",
    "for j in range(len(t)):\n",
    "    if I1[j] > 0:\n",
    "        q1 += I1[j]*dt\n",
    "        \n",
    "qbat = 18000 # coulombs lembrando que 1 Ah = 3600 C\n",
    "\n",
    "# Se a bateria possuir eficiência de 90 %\n",
    "nbat = 0.9\n",
    "qbatn = qbat*nbat\n",
    "qrestante = qbat - q1\n",
    "print('O valor consumido de carga no trajeto foi de: ', q1, 'C')\n",
    "print('O valor consumido da bateria no trajeto foi de: ', round(q1/qbatn*100,2), '%')\n",
    "print('O valor restante da bateria no trajeto foi de: ', round((qbatn - q1)/qbatn*100,2), '%')\n",
    "print('A distância percorrida no trajeto foi de: ', round(d,1), 'm')\n",
    "print('O valor estimado da autonomia da bateria é de : ', round((d/(q1/qbatn))/1000,2), 'km', ' ou ', round((t[-1]/(q1/qbatn))/60), 'min')\n"
   ]
  },
  {
   "cell_type": "markdown",
   "metadata": {},
   "source": [
    "##### Gerando o espaço de controle"
   ]
  },
  {
   "cell_type": "code",
   "execution_count": 190,
   "metadata": {},
   "outputs": [],
   "source": [
    "x = np.arange(-1,1,0.1)\n",
    "y = np.arange(-1,1,0.1)\n",
    "xx, yy = np.meshgrid(x,y)\n",
    "z = np.zeros((len(x),len(y)))\n",
    "\n",
    "for i in range(len(x)):\n",
    "    for j in range(len(y)):\n",
    "        z[i, j] = fuzzyControl(i,j)"
   ]
  },
  {
   "cell_type": "code",
   "execution_count": 191,
   "metadata": {},
   "outputs": [],
   "source": [
    "# Criando a figura\n",
    "fig = plt.figure(figsize =(14, 9))\n",
    "ax = plt.axes(projection ='3d')\n",
    " \n",
    "# Criando o gráfico\n",
    "ax.plot_surface(xx, yy, z)\n",
    " \n",
    "# Plot do gráfico\n",
    "plt.show()"
   ]
  },
  {
   "cell_type": "markdown",
   "metadata": {},
   "source": [
    "## Sistema de controle PID"
   ]
  },
  {
   "cell_type": "markdown",
   "metadata": {},
   "source": [
    "##### Definindo as condições iniciais"
   ]
  },
  {
   "cell_type": "code",
   "execution_count": 177,
   "metadata": {},
   "outputs": [],
   "source": [
    "#Tempo\n",
    "t = np.linspace(1,50,350)\n",
    "\n",
    "#trajeto\n",
    "g = np.ones(350)*2#np.linspace(0,8,350)#np.linspace(3,8,350)#np.ones(350)*2\n",
    "#tr = np.concatenate((np.ones(50)*np.radians(1),np.ones(50)*np.radians(-2),np.linspace(0,8,250)), axis=0)\n",
    "#tr = trajeto(g)\n",
    "\n",
    "#Condições inicias do sistema\n",
    "w2 = np.zeros(len(t)) #velocidade angular inicial [rad/s]\n",
    "I2 = np.zeros(len(t)) #corrente na armadura inicial [A]\n",
    "x0 = [0.0,0.0] #Vetor com as condições iniciais para velocidade angular e corrente\n",
    "tr = trajeto(g) #inclinação [rad]\n",
    "u = np.ones(len(t))*18 #Tensão inicial[V]\n",
    "\n",
    "#Para o controlador PID com La = 2e-3\n",
    "Kc = 0.27515#0.099#1.65 #Para a constante proporcional\n",
    "tauI = 0.125#0.07#0.5 #Para a constante integrativa\n",
    "tauD = 0.0225#0.03#0.08 #Para a constante derivativa\n",
    "\n",
    "#Armazenando resultados\n",
    "sc = np.zeros(len(t))  # saída do controlador\n",
    "vp = np.zeros(len(t))  # variável do processo\n",
    "epid = np.zeros(len(t))   # erro\n",
    "ei = np.zeros(len(t))  # erro integral\n",
    "dvp = np.zeros(len(t)) # derivada de vp\n",
    "\n",
    "#Para o controle PID\n",
    "P = np.zeros(len(t))   # proporcional\n",
    "I = np.zeros(len(t))   # integral\n",
    "D = np.zeros(len(t))   # derivativo\n",
    "\n",
    "#Referência\n",
    "sp = np.zeros(len(t))  # set point\n",
    "vr1 = 20 # velocidade de refêrencia em km/h\n",
    "vr2 = 10\n",
    "vr3 = 15\n",
    "#wr = (vr1/3.6)/0.25\n",
    "#sp = np.linspace(0,wr,len(t))\n",
    "#Vetor referência em velocidade angular - rad/s \n",
    "sp[0:80] = (vr1/3.6)/0.25 \n",
    "sp[80:150] = (vr2/3.6)/0.25\n",
    "sp[150:] = (vr3/3.6)/0.25\n",
    "\n",
    "#Limites do controlador -> Caso de saturação\n",
    "sc_up = 44 #tensão máxima de entrada\n",
    "sc_down = 0 #Tensão mínima de entrada-> Desligado| Caso seja usado freio regenerativo sc_down será negativo\n",
    "\n",
    "#Valor atual de vp - será w (velocidade angular)\n",
    "vp[0] = w2[0]"
   ]
  },
  {
   "cell_type": "markdown",
   "metadata": {},
   "source": [
    "###### Simulação PID"
   ]
  },
  {
   "cell_type": "markdown",
   "metadata": {},
   "source": [
    "O sistema de controle PID é representado pelo seguinte diagrama de blocos:"
   ]
  },
  {
   "attachments": {
    "sistema%20de%20controle%20PID%20TCC%20MOREIRA%20%282%29.png": {
     "image/png": "[encoded data removed]"
    }
   },
   "cell_type": "markdown",
   "metadata": {},
   "source": [
    "![sistema%20de%20controle%20PID%20TCC%20MOREIRA%20%282%29.png](attachment:sistema%20de%20controle%20PID%20TCC%20MOREIRA%20%282%29.png)"
   ]
  },
  {
   "cell_type": "markdown",
   "metadata": {},
   "source": [
    "Figura 3 - Diagrama de blocos do sistema de controle fuzzy"
   ]
  },
  {
   "cell_type": "code",
   "execution_count": 178,
   "metadata": {},
   "outputs": [],
   "source": [
    "for i in range(len(t)-1):\n",
    "    \n",
    "    delta_t = t[i+1]-t[i]#passo de tempo\n",
    "    epid[i] = sp[i] - vp[i] #erro \n",
    "    \n",
    "    if i >= 1:  # calculado a partir da iteração 2\n",
    "        dvp[i] = (vp[i]-vp[i-1])/delta_t #Derivada numérica de vp\n",
    "        ei[i] = ei[i-1] + epid[i] * delta_t #Integral numérica do erro\n",
    "        \n",
    "    #CONTROLADOR PID\n",
    "    P[i] = Kc * epid[i]\n",
    "    I[i] = Kc/tauI * ei[i]\n",
    "    D[i] = - Kc * tauD * dvp[i]\n",
    "    sc[i] = sc[0] + P[i] + I[i] + D[i] #Saída do controlador PI\n",
    "    \n",
    "    #Testa se o sistema está saturado\n",
    "    if sc[i] > sc_up:  # checa limite superior\n",
    "        sc[i] = sc_up\n",
    "        ei[i] = ei[i] - epid[i] * delta_t # \"anti-reset windup\"\n",
    "    if sc[i] < sc_down:  # checa limite inferior\n",
    "        sc[i] = sc_down\n",
    "        ei[i] = ei[i] - epid[i] * delta_t # \"anti-reset windup\"\n",
    "        \n",
    "    ts = [t[i],t[i+1]]#Tempo amostral\n",
    "    \n",
    "    u[i+1] = sc[i] #Entrada inicial corrigida pelo controlador\n",
    "    \n",
    "    y = odeint(bicicleta_eletrica, x0, ts,args=(u[i+1],tr[i])) #Resolução da EDO usando o método integrativo ODEINT de scipy\n",
    "    \n",
    "    w2[i+1] = y[-1,0] #vetor com a saída w ao longo do tempo\n",
    "    I2[i+1] = y[-1,1] #vetor com a saída Ia ao longo do tempo\n",
    "    vp[i+1] = w2[i+1] #vetor com w para calcular o erro\n",
    "    x0[0] = w2[i+1] #atualização do valor inicial para velocidade angular\n",
    "    x0[1] = I2[i+1] #atualização do valor inicial para corrente"
   ]
  },
  {
   "cell_type": "markdown",
   "metadata": {},
   "source": [
    "##### Visualização dos resultados"
   ]
  },
  {
   "cell_type": "code",
   "execution_count": 172,
   "metadata": {},
   "outputs": [],
   "source": [
    "#Plot do resultados\n",
    "plt.figure(2)\n",
    "plt.plot(t,0.25*w2*3.6, 'b', label='Velocidade real')\n",
    "plt.plot(t,0.25*sp*3.6, 'k', label='referência')\n",
    "#plt.plot(t, u, 'r', label='tensão')\n",
    "#plt.plot(t, I, 'oc', label='corrente')\n",
    "plt.title('Resposta do sistema com controlador PID')\n",
    "plt.xlabel('tempo [s]')\n",
    "plt.ylabel('Velocidade [km/h]')\n",
    "plt.legend(loc='best')\n",
    "plt.grid()\n",
    "plt.show()\n",
    "#plt.savefig('Resposta_com_controlador_pid3.png')"
   ]
  },
  {
   "cell_type": "code",
   "execution_count": 81,
   "metadata": {},
   "outputs": [
    {
     "name": "stdout",
     "output_type": "stream",
     "text": [
      "O valor do overshoot é de  28.144857013793256 %\n",
      "O valor do tempo de subida é  1.544412607449857 s\n",
      "O valor do tempo de pico é  4.229226361031518 s\n",
      "O valor do tempo de acomodação é  19.673352435530084 s\n",
      "O valor do erro de regime é  0.0 %\n"
     ]
    }
   ],
   "source": [
    "metricasPID = metricasTempoControle(w2,t,epid,sp)"
   ]
  },
  {
   "cell_type": "code",
   "execution_count": 82,
   "metadata": {},
   "outputs": [
    {
     "name": "stdout",
     "output_type": "stream",
     "text": [
      "O valor consumido de carga no trajeto foi de:  73.65545847502318 C\n",
      "O valor consumido da bateria no trajeto foi de:  0.45 %\n",
      "O valor restante da bateria no trajeto foi de:  99.55 %\n",
      "A distância percorrida no trajeto foi de:  580.6 m\n",
      "O valor estimado da autonomia da bateria é de :  127.7 km  ou  183.0 min\n"
     ]
    }
   ],
   "source": [
    "q2 = scipy.integrate.trapz(I2,t) # Se for usar freio regenerativo\n",
    "d = scipy.integrate.trapz(0.25*w2*3.6,t)\n",
    "#Outra forma de calcular q=> sem freio regenerativo\n",
    "q3 = 0\n",
    "dt = t[1]-t[0]\n",
    "for j in range(len(t)):\n",
    "    if I2[j] > 0:\n",
    "        q3 += I2[j]*dt\n",
    "qbat = 18000 # coulombs lembrando que 1 Ah = 3600 C | para uma bateria com carga de 5000mAh\n",
    "# Se a bateria possuir eficiência de 90 %\n",
    "nbat = 0.9\n",
    "qbatn = qbat*nbat\n",
    "qrestante = qbat - q2\n",
    "print('O valor consumido de carga no trajeto foi de: ', q3, 'C')\n",
    "print('O valor consumido da bateria no trajeto foi de: ', round(q3/qbatn*100,2), '%')\n",
    "print('O valor restante da bateria no trajeto foi de: ', round((qbatn - q3)/qbatn*100,2), '%')\n",
    "print('A distância percorrida no trajeto foi de: ', round(d,1), 'm')\n",
    "print('O valor estimado da autonomia da bateria é de : ', round((d/(q3/qbatn))/1000,2), 'km', ' ou ', round((t[-1]/(q3/qbatn))/60), 'min')"
   ]
  },
  {
   "cell_type": "code",
   "execution_count": 179,
   "metadata": {},
   "outputs": [],
   "source": [
    "#Plot do resultados\n",
    "plt.figure(3)\n",
    "plt.plot(t,0.25*w2*3.6, 'b', label='Velocidade PID')\n",
    "plt.plot(t,0.25*w*3.6, 'r', label='velocidade Fuzzy')\n",
    "#plt.plot(t, u, 'r', label='tensão')\n",
    "#plt.plot(t, I, 'oc', label='corrente')\n",
    "plt.title('Comparação entre controladores PID e Fuzzy')\n",
    "plt.xlabel('tempo [s]')\n",
    "plt.ylabel('Velocidade [km/h]')\n",
    "plt.legend(loc='best')\n",
    "plt.grid()\n",
    "plt.show()\n",
    "#plt.savefig('Resposta_com_controlador_trajeto2.png')"
   ]
  },
  {
   "cell_type": "markdown",
   "metadata": {},
   "source": [
    "## Modelo linearizado e análise no domínio da frequência"
   ]
  },
  {
   "cell_type": "markdown",
   "metadata": {},
   "source": [
    "Para realizar a linearização do sistema a força de atrito com o ar Fw foi linearizada usando-se o método dos mínimos quadrados para encontrar a melhor reta que representa a força de atrito para velocidade de até 20 km/h"
   ]
  },
  {
   "cell_type": "markdown",
   "metadata": {},
   "source": [
    "##### Linearização de Fw"
   ]
  },
  {
   "cell_type": "code",
   "execution_count": null,
   "metadata": {},
   "outputs": [],
   "source": [
    "def fw(v):\n",
    "    As = 0.509#Area frontal do ciclista [m²]\n",
    "    Cw = 0.76#Coeficiente de arrasto do ar\n",
    "    rho = 1.2#densidade do ar [kg/m³]\n",
    "    \n",
    "    return 0.5*As*Cw*rho*v**2\n",
    "\n",
    "v = np.linspace(0,20,50)\n",
    "f = fw(v)\n",
    "A = np.vstack([v,np.ones(len(v))]).T\n",
    "\n",
    "a, b = np.linalg.lstsq(A,f, rcond =None)[0]\n",
    "\n",
    "#vizualização\n",
    "plt.plot(v, f, 'o', label='Força original', markersize=2)\n",
    "plt.plot(v, a*v + b, 'r', label='Força linearizada')\n",
    "plt.legend()\n",
    "plt.show()\n",
    "\n",
    "#Simplificando para usar a média\n",
    "fwmedio = np.average(f) \n"
   ]
  },
  {
   "cell_type": "markdown",
   "metadata": {},
   "source": [
    "##### Torque de entrada no sistema"
   ]
  },
  {
   "cell_type": "code",
   "execution_count": null,
   "metadata": {},
   "outputs": [],
   "source": [
    "M = 107\n",
    "g = 9.81\n",
    "r = 0.25\n",
    "#Para trajeto de 3° inclinação constante\n",
    "tr = np.radians(3)\n",
    "\n",
    "Th2 = 12 # Torque humano [N.m]\n",
    "\n",
    "# Força de atrito de rolamento [N]\n",
    "Crr = 0.0025 #Coeficiente de atrito de rolagem \n",
    "frr2 = Crr*M*g*np.cos(tr)\n",
    "\n",
    "# Força gravitacional [N]\n",
    "fa2 = M*g*np.sin(tr) \n",
    "\n",
    "Tf = 1.71\n",
    "#Torque de entrada no motor [N.m]\n",
    "Tm = r*(fwmedio + frr2 + fa2) - Th2 + Tf\n",
    "print('O torque de entrada adotado será de ', round(Tm,0), 'N.m')"
   ]
  },
  {
   "cell_type": "markdown",
   "metadata": {},
   "source": [
    "##### Sistema no domínio de Laplace"
   ]
  },
  {
   "cell_type": "code",
   "execution_count": null,
   "metadata": {},
   "outputs": [],
   "source": [
    "#Sistema em laplace\n",
    "kt = 1.49\n",
    "ra = 0.1733 #resistência da armadura do motor[ohms]\n",
    "La = 2e-3 # indutancia da armadura do motor [H] - ou colocar 0.3, calculado deu 3\n",
    "jl = 0.0625 #inercia da carga - roda da bicicleta roda de 1kg com raio de 0,25m\n",
    "jm = 7.35e-3 #inercia do motor \n",
    "jt = jl+jm #inercia total\n",
    "B = 1e-3#coeficiente de atrito viscoso no motor\n",
    "\n",
    "#Parte referente a velocidade angular e a tensão\n",
    "ui = 36#*fuzzyControl([60, 6, np.radians(3), 30]) #tensão de entrada-usar a função do fuzzy aki [V]\n",
    "Tt = 11 \n",
    "s = ctl.TransferFunction([1,0], [1]) #Variável de Laplace\n",
    "s2 = ctl.TransferFunction([1,0,0],[1]) #Variável de Laplace ao quadrado\n",
    "\n",
    "#Construindo a função transfêrencia para o motor elétrico\n",
    "km = kt/(ra*B + kt*kt)\n",
    "alpha = (La*jt)/(ra*B + kt*kt) \n",
    "beta = (ra*jt+La*B)/(ra*B + kt*kt)\n",
    "\n",
    "G1 = km/(alpha*s2 + beta*s + 1)\n",
    "G2 = ((-ra/kt)*km*((La/ra)*s+1))/(alpha*s2 + beta*s + 1)\n",
    "\n",
    "\n",
    "W = G1*ui + G2*Tt"
   ]
  },
  {
   "cell_type": "markdown",
   "metadata": {},
   "source": [
    "##### Criando o sistema com feedback"
   ]
  },
  {
   "cell_type": "code",
   "execution_count": null,
   "metadata": {},
   "outputs": [],
   "source": [
    "MF = ctl.feedback(W, kt,-1) # malha fechada\n",
    "#print(MF)\n",
    "\n",
    "t = np.linspace(0, 20, 1001)\n",
    "\n",
    "#Talvez fazer um loop aqui, definindo sempre o novo valor da constante usando o fuzzy\n",
    "tout, yout1 = ctl.step_response(MF, t, X0=0)\n",
    "\n",
    "plt.figure(4)\n",
    "plt.plot(tout, yout1, 'b', linewidth=1.5, label='sem controle')\n",
    "plt.legend(loc='best', shadow=True, framealpha=1)\n",
    "plt.grid(alpha=0.3)\n",
    "plt.xlabel('t')\n",
    "plt.show()"
   ]
  },
  {
   "cell_type": "markdown",
   "metadata": {},
   "source": [
    "##### Controlador PID"
   ]
  },
  {
   "cell_type": "code",
   "execution_count": null,
   "metadata": {},
   "outputs": [],
   "source": [
    "#Lugar das raízes para encontrar valor do ganho crítico\n",
    "ctl.rlocus(W)\n",
    "plt.show()"
   ]
  },
  {
   "cell_type": "markdown",
   "metadata": {},
   "source": [
    "Para um ganho crítico de Kc = 0,5532 e amortecimento = 1,8e-4 / Valores dados pelo rootLocus - ao omitir \"notebook\" da opção % matplotlib a função \"clicar\" fica disponível nos gráficos abertos em pop-ups, e não mais na página notebook. Temos a seguinte resposta ao degrau:"
   ]
  },
  {
   "cell_type": "code",
   "execution_count": null,
   "metadata": {},
   "outputs": [],
   "source": [
    "#Adotando kc = 0.5503\n",
    "kc = 0.5503\n",
    "MF = ctl.feedback(kc*W, 1) # malha fechada\n",
    "print(MF)\n",
    "\n",
    "t = np.linspace(0, 20, 1001)\n",
    "\n",
    "plt.figure(5)\n",
    "tout, yout1 = ctl.step_response(MF, t, X0=0)\n",
    "plt.plot(tout, yout1, 'b', linewidth=1.5, label='k = kc')\n",
    "plt.legend(loc='best', shadow=True, framealpha=1)\n",
    "plt.grid(alpha=0.3)\n",
    "plt.xlabel('t')\n",
    "plt.show()"
   ]
  },
  {
   "cell_type": "markdown",
   "metadata": {},
   "source": [
    "O valor de Tcrítico será o período de oscilação: Tc ~~ 0.04 s/ Obtido no gráfico"
   ]
  },
  {
   "cell_type": "code",
   "execution_count": null,
   "metadata": {},
   "outputs": [],
   "source": [
    "#Construindo o controlador PID usando a regra de Ziegler alterada\n",
    "tc = 0.04\n",
    "Kp = 0.5*kc #Proporcional\n",
    "Ti = 0.005*(1/tc) #Integral\n",
    "Td = 0.0009*(1/tc) #Derivativo\n",
    "Cpid = Kp*(1 + 1/(Ti*s) +Td*s)#(0.075*kc*tc*(s+4/tc)*(s+4/tc))/s 1/(Ti*s)\n",
    "print(Cpid)\n",
    "print('Kp',Kp)\n",
    "print('Ti',Ti)\n",
    "print('Td',Td)"
   ]
  },
  {
   "cell_type": "markdown",
   "metadata": {},
   "source": [
    "##### Controle PID"
   ]
  },
  {
   "cell_type": "code",
   "execution_count": null,
   "metadata": {},
   "outputs": [],
   "source": [
    "L = Cpid*W #malha aberta\n",
    "MF2 = ctl.feedback(L, 1) #malha fechada\n",
    "print(MF2)\n",
    "\n",
    "plt.figure(6)\n",
    "tout, yout1 = ctl.step_response(MF2, t, X0=0)\n",
    "plt.plot(tout, yout1, 'b', linewidth=1.5, label='com controle pid')\n",
    "plt.legend(loc='best', shadow=True, framealpha=1)\n",
    "plt.grid(alpha=0.3)\n",
    "plt.xlabel('t')\n",
    "plt.show()"
   ]
  },
  {
   "cell_type": "code",
   "execution_count": null,
   "metadata": {},
   "outputs": [],
   "source": [
    "ctl.sisotool(L)\n",
    "\n",
    "plt.figure(7)  # Diagramas de bode\n",
    "omega = np.linspace(0.1, 100, 1001)\n",
    "mag, phase, omega = ctl.bode_plot(L, omega=omega, dB=True)"
   ]
  },
  {
   "cell_type": "code",
   "execution_count": null,
   "metadata": {},
   "outputs": [],
   "source": [
    "a = ctl.stability_margins(L)"
   ]
  },
  {
   "cell_type": "code",
   "execution_count": null,
   "metadata": {},
   "outputs": [],
   "source": [
    "#Tentando usar o sistema fuzzy\n",
    "t = np.linspace(0.1,20,150)\n",
    "\n",
    "#Condições inicias do sistema \n",
    "w = np.zeros(len(t)) #velocidade angular inicial [rad/s]\n",
    "I1 = np.zeros(len(t)) #corrente na armadura inicial [A]\n",
    "x0 = [0.0,0.0] #Vetor com as condições iniciais para velocidade angular e corrente\n",
    "tr = trajeto(g) #[rad]\n",
    "u = np.ones(len(t))*36 #Tensão inicial [V]\n",
    "\n",
    "#Armazenando resultados\n",
    "sc = np.zeros(len(t))  # saída do controlador\n",
    "vp = np.zeros(len(t))  # variável do processo\n",
    "e = np.zeros(len(t))   # erro\n",
    "ei = np.zeros(len(t))  # erro integral\n",
    "dvp = np.zeros(len(t)) # derivada de vp\n",
    "\n",
    "#Referência\n",
    "sp = np.zeros(len(t))  # set point\n",
    "vr1 = 1 # velocidade de refêrencia em km/h\n",
    "vr2 = 1\n",
    "vr3 = 1\n",
    "\n",
    "#Vetor referência em velocidade angular - rad/s \n",
    "sp[0:50] = (vr1/3.6)/0.25 \n",
    "sp[50:100] = (vr2/3.6)/0.25\n",
    "sp[100:] = (vr3/3.6)/0.25\n",
    "\n",
    "#Limites do controlador -> Caso de saturação\n",
    "sc_up = 44 #tensão máxima de entrada\n",
    "sc_down = 0 #Tensão mínima de entrada-> Desligado| Caso seja usado freio regenerativo sc_down será negativo\n",
    "\n",
    "#Valor atual de vp - será w (velocidade angular)\n",
    "vp[0] = w[0]\n",
    "\n",
    "#Simulação\n",
    "for i in range(len(t)-1):\n",
    "        \n",
    "    delta_t = t[i+1]-t[i]#passo de tempo\n",
    "    e[i] = (sp[i] - vp[i])/sp[i] #erro relativo\n",
    "    \n",
    "    #CONTROLADOR FUZZY\n",
    "    ac = (w[i+1] - w[i])/delta_t #aceleração\n",
    "    sc[i] = u[i]*fuzzyControl(e[i],ac)#Atualização do valor da tensão pelo \"ganho\" do controlador fuzzy\n",
    "    \n",
    "    #Testa se o sistema está saturado\n",
    "    if sc[i] > sc_up:  # checa limite superior\n",
    "        sc[i] = sc_up\n",
    "        \n",
    "    if sc[i] < sc_down:  # checa limite inferior\n",
    "        sc[i] = sc_down\n",
    "        \n",
    "        \n",
    "    ts = [t[i],t[i+1]]#Tempo amostral\n",
    "    \n",
    "    u[i+1] = sc[i] #Entrada inicial corrigida pelo controlador\n",
    "    \n",
    "    y = G1*u[i+1] + G2*Tt #Criando o sistema\n",
    "    MF3 = ctl.feedback(y, 1)\n",
    "    tout, y = ctl.step_response(MF3, ts, X0=0)\n",
    "    \n",
    "    w[i+1] = y[-1] #vetor com a saída w ao longo do tempo\n",
    "    #I1[i+1] = y[-1,1] #vetor com a saída Ia ao longo do tempo\n",
    "    vp[i+1] = w[i+1] #vetor com w para calcular o erro\n",
    "    x0[0] = w[i+1] #atualização do valor inicial para velocidade angular\n",
    "    #x0[1] = I1[i+1] #atualização do valor inicial para corrente"
   ]
  },
  {
   "cell_type": "code",
   "execution_count": null,
   "metadata": {},
   "outputs": [],
   "source": [
    "#Plotando resultado\n",
    "#Plot do resultados\n",
    "plt.figure(9)\n",
    "plt.plot(t,0.25*w*3.6, 'b', label='velocidade real')\n",
    "plt.plot(t,0.25*sp*3.6, 'r', label='referência')\n",
    "#plt.plot(t, u, 'r', label='tensão')\n",
    "#plt.plot(t, I1, 'oc', label='corrente')\n",
    "plt.legend(loc='best')\n",
    "plt.title('Resposta do sistema com controlador fuzzy')\n",
    "plt.xlabel('tempo [s]')\n",
    "plt.ylabel('Velocidade [km/h]')\n",
    "plt.grid()\n",
    "plt.show()"
   ]
  }
 ],
 "metadata": {
  "kernelspec": {
   "display_name": "Python 3",
   "language": "python",
   "name": "python3"
  },
  "language_info": {
   "codemirror_mode": {
    "name": "ipython",
    "version": 3
   },
   "file_extension": ".py",
   "mimetype": "text/x-python",
   "name": "python",
   "nbconvert_exporter": "python",
   "pygments_lexer": "ipython3",
   "version": "3.8.3"
  }
 },
 "nbformat": 4,
 "nbformat_minor": 4
}
